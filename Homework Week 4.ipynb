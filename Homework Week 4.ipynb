{
 "cells": [
  {
   "cell_type": "code",
   "execution_count": null,
   "metadata": {},
   "outputs": [],
   "source": [
    "# 1. What does one need to do to use a module?\n",
    "# Import the respective module\n",
    "# 1. Name a Module (not the DateTime Nodule) we looked at and write a line or 2 of code as an example using this module.\n",
    "# _init_.py\n",
    "\n",
    "# 1. What is a benefit of using Exception handling?\n",
    "# When the error is raised in the try block, the except block will be executed, if not in place then the progra will crash.\n",
    "# 1. what are the 4 components used for Python Exception Handling?\n",
    "# they are TRY, EXCEPT, ELSE, and FINALLY\n",
    "# 1. NumPy arrays are like what Python data type?\n",
    "# cientific computing packages\n",
    "# 1. What is one of the main benefits of using NumPy arrays.\n",
    "# Once imorted or initiated the calculations are standard information\n",
    "# 1. What is one of the main requirements about the 'dtype' of NumPy arrays?\n",
    "# Arrays can handle very large datasets efficiently. Computationally-memory efficient. Faster calculations and analysis than lists\n",
    "# 1. Of the 10 uses of NumPy, name 2.\n",
    "# saves memory ,more convenient\n",
    "\n",
    "# 1. Name one of the other libraries we'll use with NumPy?\n",
    "# axes\n",
    "# 1. What is the shape of NumPy arrays?\n",
    "# 3d\n",
    "# 1. What is a Tensor?\n",
    "# multi demensional array\n",
    "# 1. Name a reason why it's better using  NumPy for Data Analysis than using a Python List?\n",
    "# saves memory and time\n",
    "# 1. When creating an \"empty\" array, where do the elements come from?\n",
    "# initializing an empy list using (*) operator"
   ]
  },
  {
   "cell_type": "code",
   "execution_count": 1,
   "metadata": {},
   "outputs": [
    {
     "name": "stdout",
     "output_type": "stream",
     "text": [
      "Renting a car is more affordable\n"
     ]
    }
   ],
   "source": [
    "# 1. Create an if statement: if 'age' is greater than or equal to 25, print \"Renting a car is more affordable\", however if 'age' is less than 25, print \"Renting a car is very expensive.\"\n",
    "\n",
    "\n",
    "a = 25\n",
    "b = 43\n",
    "\n",
    "if b > a:\n",
    "    print(\"Renting a car is more affordable\")\n",
    "else: \n",
    "    print(\"Renting a car is very expensive\")"
   ]
  },
  {
   "cell_type": "code",
   "execution_count": 2,
   "metadata": {},
   "outputs": [
    {
     "name": "stdout",
     "output_type": "stream",
     "text": [
      "The quick brown fox jumps over the lazy dog.\n",
      "<built-in function len>\n",
      "trousers maple\n",
      "trousers aqua\n",
      "trousers auburn\n",
      "trousers burnt sienna\n",
      "trousers cerise\n",
      "trousers gunmetal blue\n",
      "trousers fuchsia\n",
      "trousers Dark Sapphire\n",
      "blouse maple\n",
      "blouse aqua\n",
      "blouse auburn\n",
      "blouse burnt sienna\n",
      "blouse cerise\n",
      "blouse gunmetal blue\n",
      "blouse fuchsia\n",
      "blouse Dark Sapphire\n",
      "bandana maple\n",
      "bandana aqua\n",
      "bandana auburn\n",
      "bandana burnt sienna\n",
      "bandana cerise\n",
      "bandana gunmetal blue\n",
      "bandana fuchsia\n",
      "bandana Dark Sapphire\n",
      "cumber band maple\n",
      "cumber band aqua\n",
      "cumber band auburn\n",
      "cumber band burnt sienna\n",
      "cumber band cerise\n",
      "cumber band gunmetal blue\n",
      "cumber band fuchsia\n",
      "cumber band Dark Sapphire\n",
      "blazer maple\n",
      "blazer aqua\n",
      "blazer auburn\n",
      "blazer burnt sienna\n",
      "blazer cerise\n",
      "blazer gunmetal blue\n",
      "blazer fuchsia\n",
      "blazer Dark Sapphire\n",
      "vest maple\n",
      "vest aqua\n",
      "vest auburn\n",
      "vest burnt sienna\n",
      "vest cerise\n",
      "vest gunmetal blue\n",
      "vest fuchsia\n",
      "vest Dark Sapphire\n",
      "french beret maple\n",
      "french beret aqua\n",
      "french beret auburn\n",
      "french beret burnt sienna\n",
      "french beret cerise\n",
      "french beret gunmetal blue\n",
      "french beret fuchsia\n",
      "french beret Dark Sapphire\n",
      "scarf maple\n",
      "scarf aqua\n",
      "scarf auburn\n",
      "scarf burnt sienna\n",
      "scarf cerise\n",
      "scarf gunmetal blue\n",
      "scarf fuchsia\n",
      "scarf Dark Sapphire\n",
      "stole maple\n",
      "stole aqua\n",
      "stole auburn\n",
      "stole burnt sienna\n",
      "stole cerise\n",
      "stole gunmetal blue\n",
      "stole fuchsia\n",
      "stole Dark Sapphire\n"
     ]
    }
   ],
   "source": [
    "# 2. Loop over the following string to (1) count all the characters in the string and (2) print out all the vowels -- \"The quick brown fox jumps over the lazy dog\"\n",
    "\n",
    "h = str('The quick brown fox jumps over the lazy dog.')\n",
    "print(h)\n",
    "\n",
    "print(len)\n",
    "\n",
    "# Write a nested loop that prints out every piece of clothing from the `couture` list, in every fashionable color from the `panettone` set: couture = [\"trousers\", \"blouse\", \"bandana\", \"cumber band\", \"blazer\", \"vest\", \"french beret\", \"scarf\", \"stole\"] and panettone = {\"cerise\", \"fuchsia\", \"aqua\", \"maple\", \"auburn\", \"burnt sienna\", \"gunmetal blue\", \"Dark Sapphire\"}\n",
    "\n",
    "couture = [\"trousers\", \"blouse\", \"bandana\", \"cumber band\", \"blazer\", \"vest\", \"french beret\", \"scarf\", \"stole\"]\n",
    "panettone = {\"cerise\", \"fuchsia\", \"aqua\", \"maple\", \"auburn\", \"burnt sienna\", \"gunmetal blue\", \"Dark Sapphire\"}\n",
    "\n",
    "for x in couture:\n",
    "    for y in panettone:\n",
    "        print(x,y)"
   ]
  },
  {
   "cell_type": "code",
   "execution_count": null,
   "metadata": {},
   "outputs": [],
   "source": [
    "#  5. Use range as a loop to calculate the sum of all the numbers from 1 to 100   \n",
    "\n",
    "\n",
    "for i in range(1,100):\n",
    "    print(sum)\n",
    "    for j in range(1,100):\n",
    "        print(i + i, end='')\n",
    "\n"
   ]
  },
  {
   "cell_type": "code",
   "execution_count": 8,
   "metadata": {},
   "outputs": [
    {
     "name": "stdout",
     "output_type": "stream",
     "text": [
      "\n",
      "Second fruit ...  banana\n"
     ]
    }
   ],
   "source": [
    "# 6.Print the second item in this fruits list.\n",
    "    # [\"apple\", \"banana\", \"cherry\"]\n",
    "\n",
    "fruitList = [\"apple\", \"banana\", \"cherry\"]\n",
    "print(\"\\nSecond fruit ... \", fruitList[1])"
   ]
  },
  {
   "cell_type": "code",
   "execution_count": 6,
   "metadata": {},
   "outputs": [
    {
     "name": "stdout",
     "output_type": "stream",
     "text": [
      " replaced [1:1] ...  ['apple', 'blackberry', 'watermelon']\n"
     ]
    }
   ],
   "source": [
    "# 7. Change the value from \"apple\" to \"kiwi\", in the fruits list.\n",
    "#     [\"apple\", \"banana\", \"cherry\"]\n",
    "\n",
    "fruitList = [\"apple\", \"banana\", \"cherry\"]\n",
    "fruitList[1:3] = [\"blackberry\", \"watermelon\"]\n",
    "print(\" replaced [1:1] ... \", fruitList)"
   ]
  },
  {
   "cell_type": "code",
   "execution_count": 9,
   "metadata": {},
   "outputs": [
    {
     "name": "stdout",
     "output_type": "stream",
     "text": [
      "New list ...  ['apple', 'banana', 'cherry', 'orange']\n"
     ]
    }
   ],
   "source": [
    "# 8. Use the append method to add \"orange\" to the fruits list.\n",
    "    # [\"apple\", \"banana\", \"cherry\"]\n",
    "\n",
    "fruitList = [\"apple\", \"banana\", \"cherry\"]\n",
    "fruitList.append(\"orange\")\n",
    "print(\"New list ... \", fruitList)"
   ]
  },
  {
   "cell_type": "code",
   "execution_count": 10,
   "metadata": {},
   "outputs": [
    {
     "name": "stdout",
     "output_type": "stream",
     "text": [
      "New list ...  ['apple', 'banana', 'cherry', 'lemon']\n"
     ]
    }
   ],
   "source": [
    "# 9. Use the insert method to add \"lemon\" as the second item in the fruits list.\n",
    "#     [\"apple\", \"banana\", \"cherry\"]\n",
    "\n",
    "fruitList = [\"apple\", \"banana\", \"cherry\"]\n",
    "fruitList.append('lemon')\n",
    "print(\"New list ... \", fruitList)"
   ]
  },
  {
   "cell_type": "code",
   "execution_count": 11,
   "metadata": {},
   "outputs": [
    {
     "name": "stdout",
     "output_type": "stream",
     "text": [
      "New list ...  ['apple', 'cherry']\n"
     ]
    }
   ],
   "source": [
    "# 10. Use the remove method to remove \"banana\" from the fruits list.\n",
    "    # [\"apple\", \"banana\", \"cherry\"]\n",
    "\n",
    "fruitList = [\"apple\", \"banana\", \"cherry\"]\n",
    "fruitList.remove('banana')\n",
    "print(\"New list ... \", fruitList)"
   ]
  },
  {
   "cell_type": "code",
   "execution_count": 12,
   "metadata": {},
   "outputs": [
    {
     "name": "stdout",
     "output_type": "stream",
     "text": [
      "The 3rd to last element of the fruit list: kiwi\n"
     ]
    }
   ],
   "source": [
    "# 11. Use negative indexing to print the 3rd and 2nd to last items in the list.\n",
    "#     [\"apple\", \"banana\", \"cherry\", \"orange\", \"kiwi\", \"melon\", \"mango\"]\n",
    "\n",
    "fruitList = [\"apple\", \"banana\", \"cherry\", \"orange\", \"kiwi\", \"melon\", \"mango\"]\n",
    "print(\"The 3rd to last element of the fruit list:\", fruitList[-3])"
   ]
  },
  {
   "cell_type": "code",
   "execution_count": null,
   "metadata": {},
   "outputs": [],
   "source": [
    "# 12. Use a range of indexes to print the third, fourth, and fifth item in the list.\n",
    "#     [\"apple\", \"banana\", \"cherry\", \"orange\", \"kiwi\", \"melon\", \"mango\"]\n",
    "\n",
    "# Confused on this one "
   ]
  },
  {
   "cell_type": "code",
   "execution_count": 13,
   "metadata": {},
   "outputs": [
    {
     "name": "stdout",
     "output_type": "stream",
     "text": [
      "Size of thea List =  7\n"
     ]
    }
   ],
   "source": [
    "# 13. Use the correct syntax to print the number of items in the list.\n",
    "#     [\"apple\", \"banana\", \"cherry\", \"orange\", \"kiwi\", \"melon\", \"mango\"]\n",
    "\n",
    "fruitList = [\"apple\", \"banana\", \"cherry\",\"orange\", \"kiwi\", \"melon\", \"mango\"]\n",
    "listLength = len(fruitList)\n",
    "print(\"Size of thea List = \", listLength)"
   ]
  },
  {
   "cell_type": "code",
   "execution_count": 14,
   "metadata": {},
   "outputs": [
    {
     "name": "stdout",
     "output_type": "stream",
     "text": [
      "Sorted cars in reverse -  ['orange', 'melon', 'mango', 'kiwi', 'cherry', 'banana', 'apple']\n"
     ]
    }
   ],
   "source": [
    "#  14. Use the correct syntax to sort this list in reverse order\n",
    "#     # [\"apple\", \"banana\", \"cherry\", \"orange\", \"kiwi\", \"melon\", \"mango\"]\n",
    "\n",
    "fruitList = [\"apple\", \"banana\", \"cherry\",\"orange\", \"kiwi\", \"melon\", \"mango\"]\n",
    "fruitList.sort(reverse=True)\n",
    "print(\"Sorted cars in reverse - \", fruitList)"
   ]
  },
  {
   "cell_type": "code",
   "execution_count": 15,
   "metadata": {},
   "outputs": [
    {
     "name": "stdout",
     "output_type": "stream",
     "text": [
      "Current Date and Time ... 2024-08-31 13:44:49.079021\n"
     ]
    }
   ],
   "source": [
    "# 15. Use the DateTime module to get Current Date and Time, \n",
    "# # and save it to a variable. \n",
    "# # Then extract just the Full month name form that variable.\n",
    "\n",
    "import datetime as dt\n",
    "a = dt.datetime.now()\n",
    "print(\"Current Date and Time ...\", a)\n"
   ]
  },
  {
   "cell_type": "code",
   "execution_count": 17,
   "metadata": {},
   "outputs": [
    {
     "name": "stdout",
     "output_type": "stream",
     "text": [
      "Saturday\n"
     ]
    }
   ],
   "source": [
    "#  Write a simple function that takes 2 parameters -- a  first name and a day name.\n",
    "#- Set a default value for the day name of Sunday.\n",
    "    # - Have the function print out a greeting -- using the parameters -- that says something like \"Hi first-name! Happy day-name!\".\n",
    "    #  Remember to use the variables in the greeting to replace first-name and day-name.  \n",
    "    # - Invoke this function with 2 variables.\n",
    "    # - Invoke this function with 1 variable only.\n",
    "\n",
    "import datetime as dt\n",
    "a = dt.datetime.now()\n",
    "def()\n",
    "\n",
    "print(a.strftime(\"%A\"))\n"
   ]
  }
 ],
 "metadata": {
  "kernelspec": {
   "display_name": "Python 3",
   "language": "python",
   "name": "python3"
  },
  "language_info": {
   "codemirror_mode": {
    "name": "ipython",
    "version": 3
   },
   "file_extension": ".py",
   "mimetype": "text/x-python",
   "name": "python",
   "nbconvert_exporter": "python",
   "pygments_lexer": "ipython3",
   "version": "3.12.4"
  }
 },
 "nbformat": 4,
 "nbformat_minor": 2
}
