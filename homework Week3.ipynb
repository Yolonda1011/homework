{
 "cells": [
  {
   "cell_type": "code",
   "execution_count": null,
   "metadata": {},
   "outputs": [],
   "source": []
  },
  {
   "cell_type": "markdown",
   "metadata": {},
   "source": [
    "1. What is an algorithm?\n",
    "    an Algorithm is a set of instrictions that are designed to accomplish a task or solve a problem. They are a fundamental part of computer programming and can be used to perform calculations, find information in databases and so much more. \n",
    "2.  Variable names may not start with certain characters - name two.\n",
    "    None\n",
    "    else\n",
    "3. What is a Semantic error?\n",
    "    A semantic error in python is when a program's meaning is incorrect, even though the program may run successfully. \n",
    "4. What is the #1 rule of coding / debugging?\n",
    "    That is having a good understanding of the system you're trying to debug.\n",
    "5. List 5 Python reserved words.\n",
    "    and, elif, except, break, return\n",
    "\n",
    "    "
   ]
  },
  {
   "cell_type": "code",
   "execution_count": 2,
   "metadata": {},
   "outputs": [
    {
     "ename": "SyntaxError",
     "evalue": "unterminated string literal (detected at line 10) (3011990805.py, line 10)",
     "output_type": "error",
     "traceback": [
      "\u001b[1;36m  Cell \u001b[1;32mIn[2], line 10\u001b[1;36m\u001b[0m\n\u001b[1;33m    X = ('red, 'blue', 'green','yellow', 'black')\u001b[0m\n\u001b[1;37m                                               ^\u001b[0m\n\u001b[1;31mSyntaxError\u001b[0m\u001b[1;31m:\u001b[0m unterminated string literal (detected at line 10)\n"
     ]
    }
   ],
   "source": [
    "# 6. Write a multi-line string with your name, favorite food, and dream job on 3 different lines\"\"\n",
    "# # x = \"\"\"\n",
    "# My name is Yolonda,\n",
    "# My favorite food is raviloi \n",
    "# and my dream job is remote data analyst!\"\"\"\n",
    "\n",
    "# print(x)\n",
    "\n",
    "# 7. Assign 5 different data types to 5 different variables. At least one datatype must be a string \n",
    "X = 'red, 'blue', 'green','yellow', 'black'\n",
    "y = 'hair', 'eyes', 'dress', 'shirt', 'pants'\n",
    "i = '10', '20','30', '25', '12'\n",
    "\n",
    "print(len(y)"
   ]
  },
  {
   "cell_type": "code",
   "execution_count": 3,
   "metadata": {},
   "outputs": [
    {
     "name": "stdout",
     "output_type": "stream",
     "text": [
      "5\n"
     ]
    }
   ],
   "source": [
    "X = ('red', 'blue', 'green','yellow', 'black')\n",
    "y = ('hair', 'eyes', 'dress', 'shirt', 'pants')\n",
    "i = ('10', '20','30', '25', '12')\n",
    "\n",
    "print(len(y))\n",
    "\n"
   ]
  },
  {
   "cell_type": "code",
   "execution_count": 6,
   "metadata": {},
   "outputs": [
    {
     "name": "stdout",
     "output_type": "stream",
     "text": [
      "Learning is fun, and you can do this!\n"
     ]
    }
   ],
   "source": [
    "\n",
    "text = 'Learning is fun, and you can do this!'\n",
    "print (text)\n"
   ]
  },
  {
   "cell_type": "code",
   "execution_count": 11,
   "metadata": {},
   "outputs": [
    {
     "name": "stdout",
     "output_type": "stream",
     "text": [
      "my name is Yolonda,I am 58 years old and I am 66 inches\n"
     ]
    }
   ],
   "source": [
    "name = 'Yolonda'\n",
    "age ='58'\n",
    "length = '66 inches'\n",
    "\n",
    "minibio = \"my name is \" + name +\",I am \" + age + \" years old \" + \"and I am \" + length \n",
    "print (minibio)"
   ]
  },
  {
   "cell_type": "code",
   "execution_count": 30,
   "metadata": {},
   "outputs": [
    {
     "name": "stdout",
     "output_type": "stream",
     "text": [
      "['apples', 'bananas', 'cherries', 'dragon fruit', 'grapes']\n",
      "['apples', 'bananas', 'cherries', 'dragon fruit', 'grapes', 'orange']\n"
     ]
    }
   ],
   "source": [
    "fruitlist = ['apples', 'bananas', 'cherries', 'dragon fruit', 'grapes']\n",
    "\n",
    "print (fruitlist)\n",
    "fruitlist.append(\"orange\")\n",
    "\n",
    "print(fruitlist)\n"
   ]
  },
  {
   "cell_type": "code",
   "execution_count": 50,
   "metadata": {},
   "outputs": [
    {
     "name": "stdout",
     "output_type": "stream",
     "text": [
      "(1, 2, 3, 4, 5)\n",
      "timesTuple... (1, 2, 3, 4, 5, 1, 2, 3, 4, 5, 1, 2, 3, 4, 5)\n",
      "element count... 0\n",
      "(1, 2, 3, 4, 5, 'abc', 'xyz')\n",
      "50\n",
      "('abc', 'xyz', 1, 2, 3, 4, 5, 'abc', 'xyz')\n"
     ]
    }
   ],
   "source": [
    "tup1 =  (1,2,3,4,5)\n",
    "tup2 = ('abc', 'xyz')\n",
    "print(tup1)\n",
    "timesTuple = tup1*3\n",
    "print('timesTuple...', timesTuple)\n",
    "\n",
    "x = timesTuple.count(12)\n",
    "print('element count...', x)\n",
    "tup3 = (tup1 + tup2)\n",
    "print(tup3)\n",
    "tup4 = (50)\n",
    "print(tup4)\n",
    "\n",
    "tup5 = (tup2 + tup3)\n",
    "print(tup5)\n",
    "\n",
    "\n",
    "\n",
    "\n",
    "\n"
   ]
  },
  {
   "cell_type": "code",
   "execution_count": 67,
   "metadata": {},
   "outputs": [
    {
     "name": "stdout",
     "output_type": "stream",
     "text": [
      "['dog', 'Cat', 'Snake']\n",
      "['dog', 'Cat', 'Snake', ('apples', 'bananas', 'cherries'), 'Infinity', 'Lexus', 'BMW', 'Mercedes', 'hat', 'gloves', 'shoes']\n"
     ]
    },
    {
     "ename": "ValueError",
     "evalue": "list.remove(x): x not in list",
     "output_type": "error",
     "traceback": [
      "\u001b[1;31m---------------------------------------------------------------------------\u001b[0m",
      "\u001b[1;31mValueError\u001b[0m                                Traceback (most recent call last)",
      "Cell \u001b[1;32mIn[67], line 11\u001b[0m\n\u001b[0;32m      8\u001b[0m \u001b[38;5;28mprint\u001b[39m(set3)\n\u001b[0;32m     10\u001b[0m set2\u001b[38;5;241m.\u001b[39mpop()\n\u001b[1;32m---> 11\u001b[0m \u001b[43mset2\u001b[49m\u001b[38;5;241;43m.\u001b[39;49m\u001b[43mremove\u001b[49m\u001b[43m(\u001b[49m\u001b[38;5;124;43m'\u001b[39;49m\u001b[38;5;124;43mshoes\u001b[39;49m\u001b[38;5;124;43m'\u001b[39;49m\u001b[43m)\u001b[49m\n\u001b[0;32m     12\u001b[0m \u001b[38;5;28mprint\u001b[39m(set2)\n",
      "\u001b[1;31mValueError\u001b[0m: list.remove(x): x not in list"
     ]
    }
   ],
   "source": [
    "list = ['dog','Cat', 'Snake']\n",
    "print(list)\n",
    "list2 = [('apples', 'bananas', 'cherries')]\n",
    "list3 = ['Infinity', 'Lexus', 'BMW', 'Mercedes']\n",
    "set1 = list + list2 + list3\n",
    "set2 = ['hat', 'gloves', 'shoes']\n",
    "set3 = set1 + set2\n",
    "print(set3)\n",
    "\n",
    "set2.pop()\n",
    "set2.remove('shoes')\n",
    "print(set2)\n",
    "\n"
   ]
  },
  {
   "cell_type": "markdown",
   "metadata": {},
   "source": []
  },
  {
   "cell_type": "code",
   "execution_count": 74,
   "metadata": {},
   "outputs": [],
   "source": [
    "aDict = {\"brand\": \"lexus\", \"model\": \"gx35\",\n",
    "    \"year\": \"2018\", \"electric\": \"false\", \"Horsepower\": 250}\n",
    "\n",
    "car = {\"brand\": \"lexus\", \"model\": \"gx35\",\n",
    "    \"year\": \"2018\"}\n"
   ]
  },
  {
   "cell_type": "markdown",
   "metadata": {},
   "source": [
    "# Python Homework (Data Types) \n",
    "\n",
    "**Note**: You can create a Python file or a Jupyter Notebook file\n",
    "\n",
    "<br>\n",
    "\n",
    "#### Data Types:\n",
    "\n",
    "<ins>Use markdown formatting for the following questions (e.g., bold lettering, bullet points, different font sizes, etc.)</ins>: \n",
    "\n",
    "1. What is an algorithm?\n",
    "2. Variable names may not start with certain characters - name two.\n",
    "3. What is a Semantic error?\n",
    "4. What is the #1 rule of coding / debugging?\n",
    "5. List 5 Python reserved words.\n",
    "\n",
    "<br>\n",
    "\n",
    "<ins>Open a code cell in your Jupyter Notebook and write the following code</ins>:\n",
    "\n",
    "6. Write a multi-line string with your name, favorite food, and dream job on 3 different lines\n",
    "7. Assign 5 different data types to 5 different variables. At least one datatype must be a string  \n",
    "    - Print the length of your string\n",
    "    - Print the index value of the 4th character in your string\n",
    "8. Create a new variable called savvy, and assign it the string with this phrase \"Learning Data Analytics and Python is Awesome!\"\n",
    "    - Return a range of characters that slices the above string from the beginning of  \"ing\" up to before \"and\"\n",
    "    - Replace \"Awesome\" with \"great\" in the string\n",
    "    - Test and print the savvy string to see it contains \"Python\"\n",
    "9. Create and assign 3 more variables called name, age and length using the multi-variable  naming method\n",
    "    - Format a new string called 'miniBio' using variables in curly brackets to complete this phrase... \"Hi my name is (name), I am (tall) and (so) old today.\"\n",
    "    - Print 'miniBio'\n",
    "    - Cast and print the age variable to a float\n",
    "\n",
    "<br>\n",
    "\n",
    "#### Complex Data Types:\n",
    "\n",
    "<br>\n",
    "\n",
    "10. Create a list of at least 5 elements of mixed data types\n",
    "    - Replace a part of it with something else\n",
    "    - Append or insert several more items to the list\n",
    "    - Find and print the length of the list\n",
    "    - Slice a sub-section of the 1st list, and save it to a different 2nd list\n",
    "    - Print the 2nd list\n",
    "    - Extend your original list with the 2nd list sliced above\n",
    "    - Create a new list called \"simList\" containing at least 5 elements of the same data type, either string, integer, float, or Boolean\n",
    "    - Sort \"simList\", and print the list\n",
    "    - Copy the \"simList\" list to another 3rd list\n",
    "    - Add the 2nd and 3rd lists together into a 4th list\n",
    "\n",
    "<br>\n",
    "\n",
    "11. Create a tuple of about 5 elements\n",
    "    - Multiply your tuple by 3 and save it to a new 2nd tuple\n",
    "    - Access and print the 12th element from the 2nd tuple\n",
    "    - Sort the 2nd tuple and print it\n",
    "    - Copy 4 specific elements from your 2nd tuple to a new 3nd tuple\n",
    "    - Unpack the 3rd tuple into 4 variables and print these variables\n",
    "    - Create a 4th tuple with single item 50 and print this tuple\n",
    "    - Add the 2nd and 3rd tuple together into a 5th tuple and print the tuple\n",
    "\n",
    "<br>\n",
    "\n",
    "12. Create a set of about 3 elements\n",
    "    - Add a list of fruits to the above set and print the result\n",
    "    - Add a car element to your set\n",
    "    - Create a 2nd set with a few odd items\n",
    "    - Save the union of 1st set and 2nd set to a 3rd set\n",
    "    - Pop an element from the 2nd set, and print the remainder of the set\n",
    "    - Clear the 1st set and print the result\n",
    "    - Discard an element, and remove another element from the 3rd set\n",
    "    - Print the remainder of the 3rd set\n",
    "\n",
    "<br>\n",
    "\n",
    "13. Create a dictionary with at least 5 values of different data types\n",
    "    - Print out 1 value\n",
    "    - Replace any one value in your dictionary with your name\n",
    "    - Add your favorite color to the dictionary\n",
    "    - Add a list, tuple or set to your dictionary\n",
    "    - Print a list of the dictionary keys\n",
    "    - Print a list of the dictionary values\n",
    "    - Copy your 1st dictionary into a 2nd dictionary\n",
    "    - Pop an item from the 2nd dictionary, and print the dictionary\n",
    "    - Remove all the elements from the 2nd dictionary and print the result\n",
    "\n",
    "<br>\n",
    "\n",
    "#### When done with homework:\n",
    "- **Due Date**: The following Monday before class\n",
    "- Make sure your homework file is well named\n",
    "- Add the homework to your Homework repo\n",
    "- Use  `git add .`, `git commit -m \"message\"`, and `git push` to upload your homework changes to GitHub in the cloud\n",
    "- Create a JIRA ticket to indicate that your Homework is ready for review:\n",
    "    - <ins> In the \"Summary\" box</ins>: Include First Name and Last Initial, plus a short description in the Summary box (Ex: Jane D. Week # Homework Complete)\n",
    "    - <ins> In the \"Description\" box</ins>: Include GitHub repo url \n",
    "\n",
    "<br>\n",
    "\n",
    "------------------------------------------------------------------------------------\n",
    "\n",
    "<br>\n",
    "\n",
    "#### Final Note: \n",
    "**<ins>Goals from this past week</ins>**: \n",
    "  - Learn about Python, Jupyter Notebooks and VS Code\n",
    "  - Become familiar with Python data types, including complex data types"
   ]
  },
  {
   "cell_type": "markdown",
   "metadata": {},
   "source": []
  },
  {
   "cell_type": "markdown",
   "metadata": {},
   "source": [
    "1. What is an algorithm? answer "
   ]
  },
  {
   "cell_type": "code",
   "execution_count": null,
   "metadata": {},
   "outputs": [
    {
     "data": {
      "text/plain": [
       "'my name is yolonda \\nmy fav food is ravilio\\ndream job is coder.'"
      ]
     },
     "execution_count": 2,
     "metadata": {},
     "output_type": "execute_result"
    }
   ],
   "source": [
    "s =\"\"\"my name is yolonda \n",
    "my fav food is ravilio\n",
    "dream job is coder.\"\"\"\n",
    "s"
   ]
  },
  {
   "cell_type": "code",
   "execution_count": null,
   "metadata": {},
   "outputs": [],
   "source": []
  },
  {
   "cell_type": "markdown",
   "metadata": {},
   "source": [
    "#Assign 5 different data types to 5 different variables. At least one datatype must be a string  \n",
    "    - Print the length of your string\n",
    "    - Print the index value of the 4th character in your string\n",
    "    \n",
    "my_alist = {('apples\", 'bananas', 'oranges\", 'cherries\", 'watermellon')}\n",
    "print(my_alist)\n"
   ]
  },
  {
   "cell_type": "code",
   "execution_count": null,
   "metadata": {},
   "outputs": [
    {
     "name": "stdout",
     "output_type": "stream",
     "text": [
      "['apples', \"'bananas\", 'oranges', 'cherries', 'watermellon']\n"
     ]
    }
   ],
   "source": [
    "list = [\"apples\",\"'bananas\", \"oranges\", \"cherries\", \"watermellon\"]\n",
    "print(list)\n"
   ]
  },
  {
   "cell_type": "code",
   "execution_count": null,
   "metadata": {},
   "outputs": [
    {
     "name": "stdout",
     "output_type": "stream",
     "text": [
      "The length of the list... 5\n"
     ]
    }
   ],
   "source": [
    "print(\"The length of the list...\", len(list))\n",
    "\n"
   ]
  },
  {
   "cell_type": "code",
   "execution_count": null,
   "metadata": {},
   "outputs": [],
   "source": []
  },
  {
   "cell_type": "markdown",
   "metadata": {},
   "source": [
    "#Create a new variable called savvy, and assign it the string with this phrase \"Learning Data Analytics and Python is Awesome!\"\n",
    "    - Return a range of characters that slices the above string from the beginning of  \"ing\" up to before \"and\"\n",
    "    - Replace \"Awesome\" with \"great\" in the string\n",
    "    - Test and print the savvy string to see it contains \"Python\"\n",
    "\n",
    "    savvy = \"Learning Data Analytics and Python is Awesome!\"\n",
    "print(savvy)"
   ]
  },
  {
   "cell_type": "code",
   "execution_count": null,
   "metadata": {},
   "outputs": [
    {
     "name": "stdout",
     "output_type": "stream",
     "text": [
      "Learning Data Analytics and Python is Awesome!\n"
     ]
    }
   ],
   "source": [
    "savvy = \"Learning Data Analytics and Python is Awesome!\"\n",
    "print(savvy)\n"
   ]
  },
  {
   "cell_type": "code",
   "execution_count": null,
   "metadata": {},
   "outputs": [
    {
     "name": "stdout",
     "output_type": "stream",
     "text": [
      "ing Data Analytics\n"
     ]
    }
   ],
   "source": [
    "print(savvy[5:23])"
   ]
  },
  {
   "cell_type": "code",
   "execution_count": null,
   "metadata": {},
   "outputs": [
    {
     "name": "stdout",
     "output_type": "stream",
     "text": [
      "Learning Data Analytics and Python is great!\n"
     ]
    }
   ],
   "source": [
    "savvy = \"Learning Data Analytics and Python is Awesome!\"\n",
    "print(savvy.replace(\"Awesome\", \"great\"))\n"
   ]
  },
  {
   "cell_type": "code",
   "execution_count": null,
   "metadata": {},
   "outputs": [
    {
     "name": "stdout",
     "output_type": "stream",
     "text": [
      "Python is present\n"
     ]
    }
   ],
   "source": [
    "savvy = \"Learning Data Analytics and Python is Awesome!\"\n",
    "if \"Python\":\n",
    "    print(\"Python is present\")\n",
    "    \n"
   ]
  },
  {
   "cell_type": "markdown",
   "metadata": {},
   "source": [
    "#Create and assign 3 more variables called name, age and length using the multi-variable  naming method\n",
    "    - Format a new string called 'miniBio' using variables in curly brackets to complete this phrase... \"Hi my name is (name), I am (tall) and (so) old today.\"\n",
    "    - Print 'miniBio'\n",
    "    - Cast and print the age variable to a float"
   ]
  },
  {
   "cell_type": "code",
   "execution_count": null,
   "metadata": {},
   "outputs": [
    {
     "ename": "SyntaxError",
     "evalue": "invalid syntax (658407939.py, line 5)",
     "output_type": "error",
     "traceback": [
      "\u001b[1;36m  Cell \u001b[1;32mIn[20], line 5\u001b[1;36m\u001b[0m\n\u001b[1;33m    tall =5 ft 6 in\u001b[0m\n\u001b[1;37m            ^\u001b[0m\n\u001b[1;31mSyntaxError\u001b[0m\u001b[1;31m:\u001b[0m invalid syntax\n"
     ]
    }
   ],
   "source": [
    "miniBio = \"Hi my name is (name), I am (tall) and (so) old today.\"\n",
    "print(miniBio)\n",
    "name = Yolonda \n",
    "age =58\n",
    "tall =5 ft 6 in\n",
    "print(Hi my name is ({name}),I am ({tall}) and ({age})"
   ]
  },
  {
   "cell_type": "code",
   "execution_count": null,
   "metadata": {},
   "outputs": [
    {
     "ename": "SyntaxError",
     "evalue": "invalid syntax (3550117803.py, line 1)",
     "output_type": "error",
     "traceback": [
      "\u001b[1;36m  Cell \u001b[1;32mIn[21], line 1\u001b[1;36m\u001b[0m\n\u001b[1;33m    git status\u001b[0m\n\u001b[1;37m        ^\u001b[0m\n\u001b[1;31mSyntaxError\u001b[0m\u001b[1;31m:\u001b[0m invalid syntax\n"
     ]
    },
    {
     "ename": "",
     "evalue": "",
     "output_type": "error",
     "traceback": [
      "\u001b[1;31mThe Kernel crashed while executing code in the current cell or a previous cell. \n",
      "\u001b[1;31mPlease review the code in the cell(s) to identify a possible cause of the failure. \n",
      "\u001b[1;31mClick <a href='https://aka.ms/vscodeJupyterKernelCrash'>here</a> for more info. \n",
      "\u001b[1;31mView Jupyter <a href='command:jupyter.viewOutput'>log</a> for further details."
     ]
    }
   ],
   "source": [
    "git status\n",
    "git add\n",
    "git commit -homework.ipynb\n",
    "git push"
   ]
  }
 ],
 "metadata": {
  "kernelspec": {
   "display_name": "Python 3",
   "language": "python",
   "name": "python3"
  },
  "language_info": {
   "codemirror_mode": {
    "name": "ipython",
    "version": 3
   },
   "file_extension": ".py",
   "mimetype": "text/x-python",
   "name": "python",
   "nbconvert_exporter": "python",
   "pygments_lexer": "ipython3",
   "version": "3.12.4"
  }
 },
 "nbformat": 4,
 "nbformat_minor": 2
}
